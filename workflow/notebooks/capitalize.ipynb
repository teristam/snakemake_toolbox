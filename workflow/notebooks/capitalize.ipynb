{
 "cells": [
  {
   "cell_type": "code",
   "execution_count": null,
   "id": "589a668b",
   "metadata": {},
   "outputs": [],
   "source": [
    "sys.stderr = open(snakemake.log[0], \"w\", buffering=1)\n"
   ]
  },
  {
   "cell_type": "code",
   "execution_count": null,
   "id": "ef11aa7e",
   "metadata": {},
   "outputs": [],
   "source": [
    "with open(snakemake.input.combined, 'r') as f:\n",
    "    combined = f.read()\n",
    "    with open(snakemake.output.capitalized,'w') as f:\n",
    "        f.write(combined.upper())\n",
    "\n",
    "print(combined)\n",
    "print('testing')"
   ]
  }
 ],
 "metadata": {
  "language_info": {
   "name": "python"
  }
 },
 "nbformat": 4,
 "nbformat_minor": 5
}
